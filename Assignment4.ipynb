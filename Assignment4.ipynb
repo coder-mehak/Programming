{
 "cells": [
  {
   "cell_type": "code",
   "execution_count": 1,
   "metadata": {},
   "outputs": [
    {
     "name": "stdout",
     "output_type": "stream",
     "text": [
      "first_name --> bilal\n",
      "last_name --> abbas\n",
      "age --> 26\n",
      "city --> karachi\n",
      "{'first_name': 'bilal', 'last_name': 'abbas', 'age': '26', 'city': 'karachi'}\n"
     ]
    }
   ],
   "source": [
    "##Use a dictionary to store information about a person you know. Store their first name, last name, age,\n",
    "##and the city in which they live. You should have keys such as first_name, last_name, age, and city. Print\n",
    "##each piece of information stored in your dictionary. Add a new key value pair about qualification then\n",
    "##update the qualification value to high academic level then delete it.\n",
    "info={\"first_name\":\"bilal\",\"last_name\":\"abbas\",\"age\":\"26\",\"city\":\"karachi\"}\n",
    "for i in info:\n",
    "    print(i,\"-->\",info[i])\n",
    "info['qualification']='matric'\n",
    "info['qualification']='mba'\n",
    "del info['qualification']\n",
    "print(info)"
   ]
  },
  {
   "cell_type": "code",
   "execution_count": 2,
   "metadata": {},
   "outputs": [
    {
     "name": "stdout",
     "output_type": "stream",
     "text": [
      "Details of Karachi\n",
      "country --> pakistan\n",
      "population --> 15741000\n",
      "fact --> It is the Sixth largest city in the world by city population.\n",
      "Details of Mumbai\n",
      "country --> india\n",
      "population --> 18.41 million\n",
      "fact --> heart of the bollywood's film industry\n",
      "Details of Washington,DC\n",
      "country --> America\n",
      "population --> 633427\n",
      "fact --> capital of US\n"
     ]
    }
   ],
   "source": [
    "##Make a dictionary called cities. Use the names of three cities as keys in your dictionary. Create a\n",
    "##dictionary of information about each city and include the country that the city is in, its approximate\n",
    "##population, and one fact about that city. The keys for each city’s dictionary should be something like\n",
    "##country, population, and fact. Print the name of each city and all of the information you have stored\n",
    "##about it.\n",
    "karachi={\"country\":\"pakistan\",\"population\":15741000,\"fact\":\"It is the Sixth largest city in the world by city population.\"}\n",
    "mumbai={\"country\":\"india\",\"population\":\"18.41 million\",\"fact\":\"heart of the bollywood's film industry\"}\n",
    "washingtondc={\"country\":\"America\",\"population\":633427,\"fact\":\"capital of US\"}\n",
    "print(\"Details of Karachi\")\n",
    "for i in karachi:\n",
    "    print(i,\"-->\",karachi[i])\n",
    "print(\"Details of Mumbai\")    \n",
    "for j in mumbai:\n",
    "    print(j,\"-->\",mumbai[j])\n",
    "print(\"Details of Washington,DC\")    \n",
    "for k in washingtondc:\n",
    "    print(k,\"-->\",washingtondc[k])"
   ]
  },
  {
   "cell_type": "code",
   "execution_count": 3,
   "metadata": {},
   "outputs": [
    {
     "name": "stdout",
     "output_type": "stream",
     "text": [
      "enter the age to know the ticket price45\n",
      "the ticket price is $15\n",
      "enter the age to know the ticket price0\n",
      "ticket is free\n",
      "enter the age to know the ticket price3\n",
      "the ticket price is $10\n"
     ]
    }
   ],
   "source": [
    "##A movie theater charges different ticket prices depending on a person’s age. If a person is under the age\n",
    "##of 3, the ticket is free; if they are between 3 and 12, the ticket is $10; and if they are over age 12, the\n",
    "##ticket is $15. Write a loop in which you ask users their age, and then tell them the cost of their movie\n",
    "##ticket.\n",
    "for y in range(3):\n",
    "    age=int(input(\"enter the age to know the ticket price\"))\n",
    "    if age<3:\n",
    "        print(\"ticket is free\")\n",
    "    elif 3<=age<=12:\n",
    "        print(\"the ticket price is $10\")\n",
    "    else:\n",
    "        print(\"the ticket price is $15\")"
   ]
  },
  {
   "cell_type": "code",
   "execution_count": 4,
   "metadata": {},
   "outputs": [
    {
     "name": "stdout",
     "output_type": "stream",
     "text": [
      "Hello! What is your name?\n",
      "professor\n",
      "Well, professor, I am thinking of a number between 1 and 20.\n",
      "Take a guess.\n",
      "enter a guess23\n",
      "Your guess is too high.\n",
      "Take a guess.\n",
      "enter a guess15\n",
      "Good job, professor! You guessed my number in 2 guesses!\n"
     ]
    }
   ],
   "source": [
    "##Write a program which randomly generate a number between 1 to 30 and ask the user in input field to\n",
    "##guess the correct number. Give three chances to user guess the number and also give hint to user if\n",
    "##hidden number is greater or smaller than the number he given to input field.  \n",
    " # This is a guess the number game.\n",
    "\n",
    "import random\n",
    "guessesTaken = 0\n",
    "print('Hello! What is your name?')\n",
    "myName = input()\n",
    "number = random.randint(1, 30)\n",
    "print('Well, ' + myName + ', I am thinking of a number between 1 and 20.')\n",
    "\n",
    "while guessesTaken < 3:\n",
    "\n",
    "    print('Take a guess.') \n",
    "    guess = int(input(\"enter a guess\"))\n",
    "    guessesTaken = guessesTaken + 1\n",
    "\n",
    "    if guess < number:\n",
    "\n",
    "        print('Your guess is too low.') \n",
    "    if guess > number:\n",
    "\n",
    "        print('Your guess is too high.')\n",
    "\n",
    "    if guess == number:\n",
    "\n",
    "         break\n",
    "if guess == number:\n",
    "     guessesTaken = str(guessesTaken)\n",
    "     print('Good job, ' + myName + '! You guessed my number in ' + guessesTaken + ' guesses!')\n",
    "if guess != number:\n",
    "     number = str(number)\n",
    "     print('Nope. The number I was thinking of was ' + number)"
   ]
  },
  {
   "cell_type": "code",
   "execution_count": null,
   "metadata": {},
   "outputs": [],
   "source": []
  }
 ],
 "metadata": {
  "kernelspec": {
   "display_name": "Python 3",
   "language": "python",
   "name": "python3"
  },
  "language_info": {
   "codemirror_mode": {
    "name": "ipython",
    "version": 3
   },
   "file_extension": ".py",
   "mimetype": "text/x-python",
   "name": "python",
   "nbconvert_exporter": "python",
   "pygments_lexer": "ipython3",
   "version": "3.7.4"
  }
 },
 "nbformat": 4,
 "nbformat_minor": 2
}
