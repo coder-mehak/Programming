{
 "cells": [
  {
   "cell_type": "code",
   "execution_count": 1,
   "metadata": {},
   "outputs": [
    {
     "name": "stdout",
     "output_type": "stream",
     "text": [
      "1. Addition\n",
      "2. Subtraction\n",
      "3. Multiplication\n",
      "4. Division\n",
      "5. Power\n",
      "6. Exit\n",
      "Enter your choice: 3\n",
      "Enter 1st Number: 4\n",
      "Enter 2nd Number: 6\n",
      "Result = 24\n"
     ]
    }
   ],
   "source": [
    "# 1. Make a calculator using Python with addition , subtraction , multiplication , division and power.\n",
    "\n",
    "print(\"1. Addition\");\n",
    "print(\"2. Subtraction\");\n",
    "print(\"3. Multiplication\");\n",
    "print(\"4. Division\");\n",
    "print(\"5. Power\")\n",
    "print(\"6. Exit\");\n",
    "choice = int(input(\"Enter your choice: \"));\n",
    "if (choice>=1 and choice<=5):\n",
    "    #print(\"Enter two numbers: \");\n",
    "    num1 = int(input(\"Enter 1st Number: \"));\n",
    "    num2 = int(input(\"Enter 2nd Number: \"));\n",
    "    if choice == 1:\n",
    "    \tres = num1 + num2;\n",
    "    \tprint(\"Result = \"+ str(res));\n",
    "    elif choice == 2:\n",
    "    \tres = num1 - num2;\n",
    "    \tprint(\"Result = \"+ str(res));\n",
    "    elif choice == 3:\n",
    "    \tres = num1 * num2;\n",
    "    \tprint(\"Result = \"+ str(res));\n",
    "    elif choice == 4:\n",
    "    \tres = num1 / num2;\n",
    "    \tprint(\"Result = \"+ str(res));\n",
    "    elif choice == 5:\n",
    "    \tres = num1 ** num2;\n",
    "    \tprint(\"Result = \"+ str(res));    \n",
    "elif choice == 6:\n",
    "    exit();\n",
    "else:\n",
    "    print(\"Wrong input..!!\");"
   ]
  },
  {
   "cell_type": "code",
   "execution_count": 2,
   "metadata": {},
   "outputs": [
    {
     "name": "stdout",
     "output_type": "stream",
     "text": [
      "List doesn't contain numeric value\n"
     ]
    }
   ],
   "source": [
    "# 2. Write a program to check if there is any numeric value in list using for loop\n",
    "b=0\n",
    "listt = [\"one\",\"two\",\"three\"]\n",
    "for a in listt:\n",
    "    if (str(a).isdigit()):\n",
    "        print (\"List contains numeric value\")\n",
    "        b=1\n",
    "        break\n",
    "    else:\n",
    "        continue\n",
    "\n",
    "if (b == 0):\n",
    "    print (\"List doesn't contain numeric value\")"
   ]
  },
  {
   "cell_type": "code",
   "execution_count": 3,
   "metadata": {},
   "outputs": [
    {
     "name": "stdout",
     "output_type": "stream",
     "text": [
      "{'one': 1, 'two': 2, 'three': 3}\n",
      "{'one': 1, 'two': 2, 'three': 3, 'four': 4}\n"
     ]
    }
   ],
   "source": [
    "# 3. Write a Python script to add a key to a dictionary\n",
    "digitt = {\"one\":1,\"two\":2,\"three\":3}\n",
    "print (digitt)\n",
    "digitt.update({\"four\":4})\n",
    "print (digitt)"
   ]
  },
  {
   "cell_type": "code",
   "execution_count": 4,
   "metadata": {},
   "outputs": [
    {
     "name": "stdout",
     "output_type": "stream",
     "text": [
      "Values in the Dictionary: dict_values([100, -67, 54])\n",
      "Sum of the values:87\n"
     ]
    }
   ],
   "source": [
    "# 4. Write a Python program to sum all the numeric items in a dictionary\n",
    "dictt = {'value1':100,'value2':-67,'value3':54}\n",
    "print (\"Values in the Dictionary: \"+ str(dictt.values()))\n",
    "print(\"Sum of the values:\" + str(sum(dictt.values())))"
   ]
  },
  {
   "cell_type": "code",
   "execution_count": 5,
   "metadata": {},
   "outputs": [
    {
     "name": "stdout",
     "output_type": "stream",
     "text": [
      "15\n",
      "20\n",
      "30\n",
      "50\n"
     ]
    }
   ],
   "source": [
    "# 5. Write a program to identify duplicate values from list\n",
    "my_list = [20,30,60,30,40,50,15,11,20,50,15]\n",
    "my_list.sort()\n",
    "for i in range (len (my_list) -1):\n",
    "    if my_list[i] == my_list[i+1]:\n",
    "        print (my_list[i])"
   ]
  },
  {
   "cell_type": "code",
   "execution_count": 6,
   "metadata": {},
   "outputs": [
    {
     "name": "stdout",
     "output_type": "stream",
     "text": [
      "Enter value: 8\n",
      "Key is not present in the dictionary\n"
     ]
    }
   ],
   "source": [
    "# 6. Write a Python script to check if a given key already exists in a dictionary\n",
    "d = {1: 10, 2: 25, 3: 37, 4: 41, 5: 53, 6: 66}\n",
    "x = int (input (\"Enter value: \"))\n",
    "if x in d:\n",
    "    print('Key is present in the dictionary')\n",
    "else:\n",
    "    print('Key is not present in the dictionary')"
   ]
  }
 ],
 "metadata": {
  "kernelspec": {
   "display_name": "Python 3",
   "language": "python",
   "name": "python3"
  },
  "language_info": {
   "codemirror_mode": {
    "name": "ipython",
    "version": 3
   },
   "file_extension": ".py",
   "mimetype": "text/x-python",
   "name": "python",
   "nbconvert_exporter": "python",
   "pygments_lexer": "ipython3",
   "version": "3.7.4"
  }
 },
 "nbformat": 4,
 "nbformat_minor": 2
}
