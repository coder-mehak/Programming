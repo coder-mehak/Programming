{
 "cells": [
  {
   "cell_type": "code",
   "execution_count": 1,
   "metadata": {},
   "outputs": [
    {
     "name": "stdout",
     "output_type": "stream",
     "text": [
      "SUBJECT               |            TOTAL MARKS          |         OBTAINED MARKS \n",
      "-------------------------------------------------------------------------------------------------\n",
      "Mathematics           |               100               |               99\n",
      "Physics               |               100               |               85\n",
      "English               |               100               |               77\n",
      "Urdu                  |               100               |               60\n",
      "Islamiat              |               50                |               45\n",
      "-----------------------------------------------------------------------------------------------\n",
      "                      |                450              |               366\n",
      "-----------------------------------------------------------------------------------------------\n",
      "                                                                                                              \n",
      "percentage :  81.33333333333333 %\n",
      "GRADE =  A1\n"
     ]
    }
   ],
   "source": [
    "#1 program which takes 5 inputs from user for different subject’s marks, total it and generate mark sheet using grades\n",
    "print(\"SUBJECT               |            TOTAL MARKS          |         OBTAINED MARKS \")\n",
    "print(\"-------------------------------------------------------------------------------------------------\")\n",
    "\n",
    "math = float(input(\"Mathematics           |               100               |               \"))\n",
    "phy = float(input(\"Physics               |               100               |               \"))\n",
    "eng = float(input(\"English               |               100               |               \"))\n",
    "urdu = float(input(\"Urdu                  |               100               |               \"))\n",
    "isl = float(input(\"Islamiat              |               50                |               \"))\n",
    "\n",
    "\n",
    "total_marks = 450\n",
    "obt_marks = int(math + phy + eng + urdu + isl)\n",
    "\n",
    "percentage = obt_marks / total_marks * 100 \n",
    "\n",
    "if percentage > 79:\n",
    "  grade = \"A1\"\n",
    "elif percentage > 69 and percentage < 79:\n",
    "  grade = \"A\"\n",
    "elif percentage > 59 and percentage < 69:\n",
    "  grade = \"B\"\n",
    "elif percentage > 49 and percentage < 59:\n",
    "  grade = \"C\"\n",
    "elif percentage > 39 and percentage < 49:\n",
    "  grade = \"D\"\n",
    "elif percentage < 39:\n",
    "  grade = \"NO GRADE FAILED!\" \n",
    "elif percentage > 100:\n",
    "  grade = \"ERROR 404\"\n",
    "else:\n",
    "  print(\"something went wrong please try again later\")  \n",
    "print(\"-----------------------------------------------------------------------------------------------\")\n",
    "print(\"                      |               \" , total_marks , \"             |              \" , obt_marks)\n",
    "print(\"-----------------------------------------------------------------------------------------------\")\n",
    "print(\"                                                                                                              \")\n",
    "print(\"percentage : \" , percentage , \"%\")\n",
    "print(\"GRADE = \" , grade)"
   ]
  },
  {
   "cell_type": "code",
   "execution_count": 2,
   "metadata": {},
   "outputs": [
    {
     "name": "stdout",
     "output_type": "stream",
     "text": [
      "Enter a number: 6\n",
      "This is an even number.\n"
     ]
    }
   ],
   "source": [
    "\n",
    "# 2. program which take input from user and identify that the given number is even or odd\n",
    "\n",
    "num = int(input(\"Enter a number: \"))\n",
    "mod = num % 2\n",
    "if mod > 0:\n",
    "    print(\"This is an odd number.\")\n",
    "else:\n",
    "    print(\"This is an even number.\")"
   ]
  },
  {
   "cell_type": "code",
   "execution_count": 3,
   "metadata": {},
   "outputs": [
    {
     "name": "stdout",
     "output_type": "stream",
     "text": [
      "Length of list 'qatar' is 8\n"
     ]
    }
   ],
   "source": [
    "# 3. program which print the length of the list\n",
    "\n",
    "qatar = [1,\"One\",2,\"Two\",3,\"Three\",4,\"Four\"]\n",
    "print (\"Length of list 'qatar' is \"+ str(len(qatar)))"
   ]
  },
  {
   "cell_type": "code",
   "execution_count": 4,
   "metadata": {},
   "outputs": [
    {
     "name": "stdout",
     "output_type": "stream",
     "text": [
      "Sum of all elements in given list:  14\n"
     ]
    }
   ],
   "source": [
    "# 4. Python program to sum all the numeric items in a list\n",
    "\n",
    "total = 0\n",
    "list1 = [1, 1, 1, 1, 10]  \n",
    "\n",
    "for ele in range(0, len(list1)): \n",
    "    total += list1[ele] \n",
    "  \n",
    "print(\"Sum of all elements in given list: \", str (total))\n"
   ]
  },
  {
   "cell_type": "code",
   "execution_count": 5,
   "metadata": {},
   "outputs": [
    {
     "name": "stdout",
     "output_type": "stream",
     "text": [
      "The largest value in list is  110\n"
     ]
    }
   ],
   "source": [
    "# 5. Write a Python program to get the largest number from a numeric list.\n",
    "\n",
    "collection = [110,26,34,43,50]\n",
    "\n",
    "print (\"The largest value in list is \", max(collection))"
   ]
  },
  {
   "cell_type": "code",
   "execution_count": 6,
   "metadata": {},
   "outputs": [
    {
     "name": "stdout",
     "output_type": "stream",
     "text": [
      "1\n",
      "1\n",
      "2\n",
      "3\n"
     ]
    }
   ],
   "source": [
    "# 6. write a program that prints out all the elements of the list that are less than 5.\n",
    "\n",
    "a = [1, 1, 2, 3, 5, 8, 13, 21, 34, 55, 89]\n",
    "\n",
    "for i in a:\n",
    "\n",
    "    if i < 5:\n",
    "\n",
    "        print(i)"
   ]
  }
 ],
 "metadata": {
  "kernelspec": {
   "display_name": "Python 3",
   "language": "python",
   "name": "python3"
  },
  "language_info": {
   "codemirror_mode": {
    "name": "ipython",
    "version": 3
   },
   "file_extension": ".py",
   "mimetype": "text/x-python",
   "name": "python",
   "nbconvert_exporter": "python",
   "pygments_lexer": "ipython3",
   "version": "3.7.4"
  }
 },
 "nbformat": 4,
 "nbformat_minor": 2
}
